{
 "cells": [
  {
   "cell_type": "markdown",
   "id": "f1dd6339-6577-4bd2-9192-e7032b30f22c",
   "metadata": {},
   "source": [
    "1.Q. Write a program to accept percentage from the user and display the grade according to the following criteria"
   ]
  },
  {
   "cell_type": "code",
   "execution_count": 1,
   "id": "2a74317a-eea3-4bae-bd48-915d44623ade",
   "metadata": {},
   "outputs": [
    {
     "name": "stdin",
     "output_type": "stream",
     "text": [
      "Enter your percentage: 50\n"
     ]
    },
    {
     "name": "stdout",
     "output_type": "stream",
     "text": [
      "Grade-D\n"
     ]
    }
   ],
   "source": [
    "marks=int(input(\"Enter your percentage:\"))\n",
    "if marks>100:\n",
    "    print(\"Invalid Marks\")\n",
    "elif marks>90 and marks<=100:\n",
    "    print(\"Grade-A\")\n",
    "elif marks>80 and marks<=90:\n",
    "    print(\"Grade-B\")\n",
    "elif marks>=60 and marks<=80:\n",
    "    print(\"Grade-C\")\n",
    "elif marks<60:\n",
    "    print(\"Grade-D\")"
   ]
  },
  {
   "cell_type": "markdown",
   "id": "6d90067c-a56d-417a-bb85-4f2a9d3f632c",
   "metadata": {},
   "source": [
    "2.Q. Write a program to accept the cost price of a bike and display the road tax to be paid according to the following criteria."
   ]
  },
  {
   "cell_type": "code",
   "execution_count": 2,
   "id": "5b2c7874-43a1-40bd-8969-cd3c3c563afc",
   "metadata": {},
   "outputs": [
    {
     "name": "stdin",
     "output_type": "stream",
     "text": [
      "Enter cost price of bike: 5000\n"
     ]
    },
    {
     "name": "stdout",
     "output_type": "stream",
     "text": [
      "Tax:5%\n"
     ]
    }
   ],
   "source": [
    "price=int(input(\"Enter cost price of bike:\"))\n",
    "if price>100000:\n",
    "    print(\"Tax:15%\")\n",
    "elif price>50000 and price<=100000:\n",
    "    print(\"Tax:10%\")\n",
    "elif price<=50000:\n",
    "    print(\"Tax:5%\")"
   ]
  },
  {
   "cell_type": "markdown",
   "id": "2c25e8a8-b8a0-4eac-bbdd-8087cd2b0d63",
   "metadata": {},
   "source": [
    "3.Q. Accept any city from the user and display monuments of the city."
   ]
  },
  {
   "cell_type": "code",
   "execution_count": 5,
   "id": "da54b61f-e1ca-4c54-a4e0-b00bf0efe940",
   "metadata": {},
   "outputs": [
    {
     "name": "stdin",
     "output_type": "stream",
     "text": [
      "Enter city: agra\n"
     ]
    },
    {
     "data": {
      "text/plain": [
       "'Taj Mahal'"
      ]
     },
     "execution_count": 5,
     "metadata": {},
     "output_type": "execute_result"
    }
   ],
   "source": [
    "e={\"delhi\":\"Red Fort\",\"agra\":\"Taj Mahal\",\"jaipur\":\"Jal Mahal\"}\n",
    "city=input(\"Enter city:\").lower()\n",
    "e[city]"
   ]
  },
  {
   "cell_type": "markdown",
   "id": "1b20c5f8-81bd-4c91-be5a-68f923cbded9",
   "metadata": {},
   "source": [
    "4.Q. Check how many times a given number can be divided by 3 before it is less than or equal to 10."
   ]
  },
  {
   "cell_type": "code",
   "execution_count": 1,
   "id": "d1ea6739-f0e2-4a99-8495-200499060256",
   "metadata": {},
   "outputs": [
    {
     "name": "stdin",
     "output_type": "stream",
     "text": [
      "Enter the number: 68\n"
     ]
    },
    {
     "name": "stdout",
     "output_type": "stream",
     "text": [
      "Your number is divisible by 3: 2  times before it is less than or equal to 10\n"
     ]
    }
   ],
   "source": [
    "number=int(input(\"Enter the number:\"))\n",
    "count=0\n",
    "while number>10:\n",
    "    number=number/3\n",
    "    count=count+1\n",
    "print(\"Your number is divisible by 3:\",count,\" times before it is less than or equal to 10\")"
   ]
  },
  {
   "cell_type": "markdown",
   "id": "d72b8cd8-42e4-4c11-aab2-89b0df328932",
   "metadata": {},
   "source": [
    "5.Q. Why and when to use while loop in python give a detailed description with example."
   ]
  },
  {
   "cell_type": "markdown",
   "id": "dd60837b-7f86-4302-a18a-e4d0e7dd7052",
   "metadata": {},
   "source": [
    "* A while loop in python is use to repeatedly execute a block of code as long as a condition is true. It iterating until the condition became false.\n",
    "* Use while loop whenever we dont know how many time the loop will run, but we know the condition for which the loop will stop.\n",
    "* some examples:\n",
    "1. We can iterate over elements in a list until a certain condition is met.\n",
    "2. When we need to repeatedly ask the user for input, until they provide valid input.\n",
    "3. While loops can be used to read lines from a file until the end of the file is reached or until a specific condition is met.\n",
    "* Example of a program:"
   ]
  },
  {
   "cell_type": "markdown",
   "id": "e22d0db9-5e06-42ab-aa61-b86c2d5f96a0",
   "metadata": {},
   "source": [
    "1. Calculate the sum of numbers until user enters 0"
   ]
  },
  {
   "cell_type": "code",
   "execution_count": 2,
   "id": "13859cdf-4548-4083-9432-03d38b72c71e",
   "metadata": {},
   "outputs": [
    {
     "name": "stdin",
     "output_type": "stream",
     "text": [
      "Enter a number: 5\n",
      "Enter a number: 6\n",
      "Enter a number: 8\n",
      "Enter a number: 8\n",
      "Enter a number: 0\n"
     ]
    },
    {
     "name": "stdout",
     "output_type": "stream",
     "text": [
      "The sum is 27\n"
     ]
    }
   ],
   "source": [
    "number=int(input(\"Enter a number:\"))\n",
    "total=0\n",
    "while number!=0:\n",
    "    total=total+number\n",
    "    number=int(input(\"Enter a number:\"))\n",
    "print(\"The sum is\",total)"
   ]
  },
  {
   "cell_type": "markdown",
   "id": "a3a5c209-f998-4e03-b625-1275b0a13c5f",
   "metadata": {},
   "source": [
    "2. If the condition of a while loop is always True, the loop runs for infinite times--result crash the console."
   ]
  },
  {
   "cell_type": "code",
   "execution_count": 3,
   "id": "7af2fb3d-c320-4598-a558-52a8bc732308",
   "metadata": {},
   "outputs": [],
   "source": [
    "#don't execute this code as this is an infinite loop it results a crash.\n",
    "# age=int(input(\"Enter your age\"))\n",
    "# while age>18:\n",
    "#     print(\"You can vote\")     "
   ]
  },
  {
   "cell_type": "markdown",
   "id": "826c6292-0e30-435f-999f-f202ffef5bff",
   "metadata": {},
   "source": [
    "6.Q. Use nested while loop to print 3 different patterns."
   ]
  },
  {
   "cell_type": "markdown",
   "id": "ebf02a75-ce70-4f13-a945-3e29c2460109",
   "metadata": {},
   "source": [
    "* Pattern 1"
   ]
  },
  {
   "cell_type": "code",
   "execution_count": 7,
   "id": "22b2147d-9fb7-444d-9ce8-aadd82abff21",
   "metadata": {},
   "outputs": [
    {
     "name": "stdout",
     "output_type": "stream",
     "text": [
      "Pattern 1\n"
     ]
    },
    {
     "name": "stdin",
     "output_type": "stream",
     "text": [
      "Enter number of rows: 3\n"
     ]
    },
    {
     "name": "stdout",
     "output_type": "stream",
     "text": [
      "* \n",
      "* * \n",
      "* * * \n"
     ]
    }
   ],
   "source": [
    "print(\"Pattern 1\")\n",
    "n=int(input(\"Enter number of rows:\"))\n",
    "i=1\n",
    "while i<=n:\n",
    "    j=1\n",
    "    while j<=i:\n",
    "        print(\"*\",end=\" \")\n",
    "        j+=1\n",
    "    print()\n",
    "    i+=1  "
   ]
  },
  {
   "cell_type": "markdown",
   "id": "df7bfe90-a9c8-4827-adaf-04293f62ec12",
   "metadata": {},
   "source": [
    "* pattern 2"
   ]
  },
  {
   "cell_type": "code",
   "execution_count": 5,
   "id": "efdb0908-7199-470c-b131-9bcdd6d62d83",
   "metadata": {},
   "outputs": [
    {
     "name": "stdout",
     "output_type": "stream",
     "text": [
      "Pattern 2\n"
     ]
    },
    {
     "name": "stdin",
     "output_type": "stream",
     "text": [
      "Enter row: 3\n"
     ]
    },
    {
     "name": "stdout",
     "output_type": "stream",
     "text": [
      "1 2 3 \n",
      "1 2 \n",
      "1 \n"
     ]
    }
   ],
   "source": [
    "print(\"Pattern 2\")\n",
    "i=int(input(\"Enter row:\"))\n",
    "while i>=1:\n",
    "    j=1\n",
    "    while j<=i:\n",
    "        print(j,end=\" \")\n",
    "        j=j+1\n",
    "    print()\n",
    "    i=i-1"
   ]
  },
  {
   "cell_type": "markdown",
   "id": "30268af2-77ba-4ba7-92d0-2c2ecfc5b16f",
   "metadata": {},
   "source": [
    "* pattern 3"
   ]
  },
  {
   "cell_type": "code",
   "execution_count": 1,
   "id": "2afb40de-77c3-46f7-94ce-57d8956dc878",
   "metadata": {},
   "outputs": [
    {
     "name": "stdout",
     "output_type": "stream",
     "text": [
      "Pattern 3\n",
      "        * \n",
      "      * * \n",
      "    * * * \n",
      "  * * * * \n",
      "* * * * * \n"
     ]
    }
   ],
   "source": [
    "print(\"Pattern 3\")\n",
    "i=1\n",
    "while i<=5:\n",
    "    space=5-i\n",
    "    while space>0:\n",
    "        print(\" \",end=\" \")\n",
    "        space=space-1\n",
    "    j=1\n",
    "    while j<=i:\n",
    "        print(\"*\",end=\" \")\n",
    "        j=j+1\n",
    "    print()\n",
    "    i=i+1"
   ]
  },
  {
   "cell_type": "markdown",
   "id": "60843a18-4632-4f0c-a4b4-986320504d0b",
   "metadata": {},
   "source": [
    "7.Q. Reverse a while loop to display numbers from 10 to 1."
   ]
  },
  {
   "cell_type": "code",
   "execution_count": 4,
   "id": "1b21f2de-b597-4292-ab8a-ad297c5f0496",
   "metadata": {},
   "outputs": [
    {
     "name": "stdout",
     "output_type": "stream",
     "text": [
      "10\n",
      "9\n",
      "8\n",
      "7\n",
      "6\n",
      "5\n",
      "4\n",
      "3\n",
      "2\n",
      "1\n"
     ]
    }
   ],
   "source": [
    "number=10\n",
    "while number>0:\n",
    "    print(number)\n",
    "    number=number-1"
   ]
  },
  {
   "cell_type": "code",
   "execution_count": null,
   "id": "551005d4-60d0-4842-8b98-5e5e55dc9b06",
   "metadata": {},
   "outputs": [],
   "source": []
  }
 ],
 "metadata": {
  "kernelspec": {
   "display_name": "Python 3 (ipykernel)",
   "language": "python",
   "name": "python3"
  },
  "language_info": {
   "codemirror_mode": {
    "name": "ipython",
    "version": 3
   },
   "file_extension": ".py",
   "mimetype": "text/x-python",
   "name": "python",
   "nbconvert_exporter": "python",
   "pygments_lexer": "ipython3",
   "version": "3.10.8"
  }
 },
 "nbformat": 4,
 "nbformat_minor": 5
}
