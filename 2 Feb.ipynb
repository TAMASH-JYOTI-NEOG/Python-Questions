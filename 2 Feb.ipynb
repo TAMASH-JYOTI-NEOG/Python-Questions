{
 "cells": [
  {
   "cell_type": "markdown",
   "id": "ffe8c0d4-cae3-4891-b481-4619b3588510",
   "metadata": {},
   "source": [
    "1.Q. Explain with an example each when to use a for loop and a while loop."
   ]
  },
  {
   "cell_type": "markdown",
   "id": "080b2eaa-94bd-4321-9150-d9d40bfb1bd7",
   "metadata": {},
   "source": [
    "* For loop is used whenever we knows how many time the loop will run. for loops can iterate over a sequence of iterable objects in python. Example:"
   ]
  },
  {
   "cell_type": "code",
   "execution_count": 3,
   "id": "48ac5b2f-845f-42c8-83f0-0ec40d773a00",
   "metadata": {},
   "outputs": [
    {
     "name": "stdout",
     "output_type": "stream",
     "text": [
      "0\n",
      "3\n",
      "6\n",
      "9\n",
      "12\n",
      "15\n",
      "18\n"
     ]
    }
   ],
   "source": [
    "for number in range(0,20,3):\n",
    "    print(number)"
   ]
  },
  {
   "cell_type": "markdown",
   "id": "02a4f907-29b9-4c21-ae1b-c490fe330f71",
   "metadata": {},
   "source": [
    "* A while loop in python is use to repeatedly execute a block of code as long as a condition is true. It iterating until the condition became false. Use while loop whenever we dont know how many time the loop will run, but we know the condition for which the loop will stop. For Example:"
   ]
  },
  {
   "cell_type": "code",
   "execution_count": 2,
   "id": "7b88250c-d409-4407-9a19-63af429627b5",
   "metadata": {},
   "outputs": [
    {
     "name": "stdin",
     "output_type": "stream",
     "text": [
      "Enter a positive number: -2\n",
      "Enter a positive number: 3\n"
     ]
    },
    {
     "name": "stdout",
     "output_type": "stream",
     "text": [
      "You entered 3\n"
     ]
    }
   ],
   "source": [
    "number=int(input(\"Enter a positive number:\"))\n",
    "while number<0:\n",
    "    number=int(input(\"Enter a positive number:\"))\n",
    "print(\"You entered\",number)"
   ]
  },
  {
   "cell_type": "markdown",
   "id": "0071dad5-3e21-46ed-863a-f78a91abdf11",
   "metadata": {},
   "source": [
    "2.Q. Write a python program to print the sum and product of the first 10 natural numbers using for and while loop."
   ]
  },
  {
   "cell_type": "code",
   "execution_count": 4,
   "id": "a4751b0c-b81e-4772-b9c6-6fb929999451",
   "metadata": {},
   "outputs": [
    {
     "name": "stdout",
     "output_type": "stream",
     "text": [
      "Sum of the first 10 natural numbers: 55\n",
      "product of the first 10 natural numbers: 3628800\n"
     ]
    }
   ],
   "source": [
    "sum=0\n",
    "product=1\n",
    "for i in range(1,11):\n",
    "    sum=sum+i\n",
    "    product=product*i\n",
    "print(\"Sum of the first 10 natural numbers:\",sum)\n",
    "print(\"product of the first 10 natural numbers:\",product)\n",
    "    "
   ]
  },
  {
   "cell_type": "code",
   "execution_count": 6,
   "id": "fc57ce8d-d2bb-4513-be41-20db16371ce5",
   "metadata": {},
   "outputs": [
    {
     "name": "stdout",
     "output_type": "stream",
     "text": [
      "Sum of the first 10 natural numbers: 55\n",
      "product of the first 10 natural numbers: 3628800\n"
     ]
    }
   ],
   "source": [
    "sum=0\n",
    "product=1\n",
    "count=1\n",
    "while count<=10:\n",
    "    sum=sum+count\n",
    "    product=product*count\n",
    "    count=count+1\n",
    "print(\"Sum of the first 10 natural numbers:\",sum)\n",
    "print(\"product of the first 10 natural numbers:\",product)"
   ]
  },
  {
   "cell_type": "markdown",
   "id": "765c94df-93c4-49f0-82d2-0206d3c61246",
   "metadata": {},
   "source": [
    "3. Q. Create a python program to compute the electricity bill for a household. \n",
    "* The per-unit charges in rupees are as follows: For the first 100 units, the user will be charged Rs. 4.5 per unit, for the next 100 units, the user will be charged Rs. 6 per unit, and for the next 100 units, the user will be charged Rs. 10 per unit, after 300 units and above the user will be charged Rs. 20 per unit. \n",
    "* you are required to take the units of electricity consumed in a month from the user as input.\n",
    "* Your program must pass this test case: when the unit of electricity consumed by the user in a month is 310, the total electricity bill should be 2250."
   ]
  },
  {
   "cell_type": "code",
   "execution_count": 8,
   "id": "5479cc57-431d-4078-a80f-d0758c2217f0",
   "metadata": {},
   "outputs": [
    {
     "name": "stdin",
     "output_type": "stream",
     "text": [
      "Enter the units of electricity consumed in a month:  18\n"
     ]
    },
    {
     "name": "stdout",
     "output_type": "stream",
     "text": [
      "Total electricity bill: Rs. 81.0\n"
     ]
    }
   ],
   "source": [
    "units_consumed = int(input(\"Enter the units of electricity consumed in a month: \"))\n",
    "total_bill = 0\n",
    "units_to_charge = units_consumed\n",
    "if units_to_charge<=100:\n",
    "    total_bill=total_bill+units_to_charge*4.5\n",
    "    units_to_charge=0\n",
    "else:\n",
    "    total_bill=total_bill+100*4.5\n",
    "    units_to_charge=units_to_charge-100\n",
    "if units_to_charge<=100:\n",
    "    total_bill=total_bill+units_to_charge*6\n",
    "    units_to_charge=0\n",
    "else:\n",
    "    total_bill=total_bill+100*6\n",
    "    units_to_charge=units_to_charge-100\n",
    "if units_to_charge<=100:\n",
    "    total_bill=total_bill+units_to_charge*10\n",
    "    units_to_charge=0\n",
    "else:\n",
    "    total_bill=total_bill+100*10\n",
    "    units_to_charge=units_to_charge-100\n",
    "if units_to_charge > 0:\n",
    "    total_bill=total_bill+units_to_charge * 20\n",
    "print(\"Total electricity bill: Rs.\", total_bill)"
   ]
  },
  {
   "cell_type": "markdown",
   "id": "cf39342c-079b-4123-88c6-ca1a035641c9",
   "metadata": {},
   "source": [
    "4. Q. Create a list of numbers from 1 to 100. Use for loop and while loop to calculate the cube of each number and if the cube of that number is divisible by 4 or 5 then append that number in a list and print that list."
   ]
  },
  {
   "cell_type": "code",
   "execution_count": 9,
   "id": "76d24ffb-0146-4ea8-8203-0452db07b771",
   "metadata": {},
   "outputs": [
    {
     "name": "stdout",
     "output_type": "stream",
     "text": [
      "Using for loop: [2, 4, 5, 6, 8, 10, 12, 14, 15, 16, 18, 20, 22, 24, 25, 26, 28, 30, 32, 34, 35, 36, 38, 40, 42, 44, 45, 46, 48, 50, 52, 54, 55, 56, 58, 60, 62, 64, 65, 66, 68, 70, 72, 74, 75, 76, 78, 80, 82, 84, 85, 86, 88, 90, 92, 94, 95, 96, 98, 100]\n"
     ]
    }
   ],
   "source": [
    "cubes_divisible=[]\n",
    "for i in range(1,101):\n",
    "    cube=i**3\n",
    "    if cube%4==0 or cube%5==0:\n",
    "        cubes_divisible.append(i)\n",
    "print(\"Using for loop:\", cubes_divisible)"
   ]
  },
  {
   "cell_type": "code",
   "execution_count": 1,
   "id": "0320b51c-d120-4816-b1e9-91652535e3e8",
   "metadata": {},
   "outputs": [
    {
     "name": "stdout",
     "output_type": "stream",
     "text": [
      "Using while loop: [2, 4, 5, 6, 8, 10, 12, 14, 15, 16, 18, 20, 22, 24, 25, 26, 28, 30, 32, 34, 35, 36, 38, 40, 42, 44, 45, 46, 48, 50, 52, 54, 55, 56, 58, 60, 62, 64, 65, 66, 68, 70, 72, 74, 75, 76, 78, 80, 82, 84, 85, 86, 88, 90, 92, 94, 95, 96, 98, 100]\n"
     ]
    }
   ],
   "source": [
    "cubes_divisible=[]\n",
    "number=1\n",
    "while number<=100:\n",
    "    cube=number**3\n",
    "    if cube%4==0 or cube%5==0:\n",
    "        cubes_divisible.append(number)\n",
    "    number=number+1\n",
    "print(\"Using while loop:\", cubes_divisible)"
   ]
  },
  {
   "cell_type": "markdown",
   "id": "5d2bc711-9884-4040-8367-0632620c48bd",
   "metadata": {},
   "source": [
    "5. Q. Write a program to filter count vowels in the below given-string.\n",
    "* string=\"I want to become a data scientist\""
   ]
  },
  {
   "cell_type": "code",
   "execution_count": 2,
   "id": "9d80fad0-dfbe-4e30-a2f6-3aff749deb61",
   "metadata": {},
   "outputs": [
    {
     "name": "stdout",
     "output_type": "stream",
     "text": [
      "Total number of vowels in the string: 12\n"
     ]
    }
   ],
   "source": [
    "string = \"I want to become a data scientist\"\n",
    "vowel_count = 0\n",
    "vowels = ['a', 'e', 'i', 'o', 'u']\n",
    "string = string.lower()\n",
    "for char in string:\n",
    "    if char in vowels:\n",
    "        vowel_count=vowel_count+1\n",
    "print(\"Total number of vowels in the string:\", vowel_count)"
   ]
  }
 ],
 "metadata": {
  "kernelspec": {
   "display_name": "Python 3 (ipykernel)",
   "language": "python",
   "name": "python3"
  },
  "language_info": {
   "codemirror_mode": {
    "name": "ipython",
    "version": 3
   },
   "file_extension": ".py",
   "mimetype": "text/x-python",
   "name": "python",
   "nbconvert_exporter": "python",
   "pygments_lexer": "ipython3",
   "version": "3.10.8"
  }
 },
 "nbformat": 4,
 "nbformat_minor": 5
}
