{
 "cells": [
  {
   "cell_type": "markdown",
   "id": "5eb7a561-3080-480f-9267-5e4f98297bd0",
   "metadata": {},
   "source": [
    "1. Who developed python Programming Language?\n",
    "* Guido Van Rossum in 1991."
   ]
  },
  {
   "cell_type": "markdown",
   "id": "76e9630d-c0b0-4822-8bd1-1d8f1a76980b",
   "metadata": {},
   "source": [
    "2. Which type of programming does python support?\n",
    "* Python supports a wide range of programming paradigms like: Imperative Programming, Object-Oriented Programming (OOP), Functional Programming, Procedural Programming."
   ]
  },
  {
   "cell_type": "markdown",
   "id": "2257cb00-84d4-4b42-97e1-f2233b06e7cd",
   "metadata": {},
   "source": [
    "3. Is python case sensitive when dealing with identifiers?\n",
    "* Python is case-sensitive when dealing with identifiers. This means that identifiers such as variable names, function names, class names, etc., must match exactly in terms of case when they are used within Python code.\n",
    "* For example, 'variable', 'Variable', and 'VARIABLE' would be treated as distinct identifiers in Python."
   ]
  },
  {
   "cell_type": "markdown",
   "id": "6dd3ab12-71f7-40a8-9210-440cd9f1dc5c",
   "metadata": {},
   "source": [
    "4. What is the correct extension of the python file?\n",
    "* \".py\""
   ]
  },
  {
   "cell_type": "markdown",
   "id": "e5ff0174-1b3d-4acd-94ec-afeaf8463a6d",
   "metadata": {},
   "source": [
    "5. Is python code compiled or interpreted?\n",
    "*  Python code is generally considered interpreted, it undergoes a compilation step before execution."
   ]
  },
  {
   "cell_type": "markdown",
   "id": "fa7ec6aa-42e0-44d5-ac19-5ba43f5988c7",
   "metadata": {},
   "source": [
    "6. Name a few blocks of code used to define in python language.\n",
    "* A Python program is constructed from code blocks. A block is a piece of Python program text that is executed as a unit. \n",
    "* The following are some blocks of code used to define in python language: \n",
    "  a module, \n",
    "  a function body, \n",
    "  and a class definition."
   ]
  },
  {
   "cell_type": "markdown",
   "id": "dc8acd8b-07c8-4913-89ea-ee84342f914a",
   "metadata": {},
   "source": [
    "7. State a character used to give single-line comments in python.\n",
    "* The character is #"
   ]
  },
  {
   "cell_type": "markdown",
   "id": "7fc9dc91-e9bf-4eb2-8472-b7e01b8dbfff",
   "metadata": {},
   "source": [
    "8. Mention functions which can help us to find the version of python that we are currently working on.\n",
    "* sys.version\n",
    "* platform.python_version()"
   ]
  },
  {
   "cell_type": "markdown",
   "id": "c6e8ccfe-bf3f-4133-80bc-42a7252e032e",
   "metadata": {},
   "source": [
    "9. Python supports the creation of anonymous functions at runtime, using a construct called- lambda"
   ]
  },
  {
   "cell_type": "markdown",
   "id": "06db9bc0-0c8c-4fa0-abfc-be2689195906",
   "metadata": {},
   "source": [
    "10. What does pip stand for python?\n",
    "* PIP stands for \"Pip Installs Packages\". It's a package manager for Python that allows us to install and manage additional libraries and packages that are not part of the Python standard library."
   ]
  },
  {
   "cell_type": "markdown",
   "id": "cf2b6d59-9069-4621-a80e-de844c91bfdb",
   "metadata": {},
   "source": [
    "11. Mention a few built-in functions in python.\n",
    "* print(), len(), type(), input(), range(), int(), str(), list(), tuple(), dict() etc. "
   ]
  },
  {
   "cell_type": "markdown",
   "id": "8594aea7-2a05-4c19-803a-194f9c3324a3",
   "metadata": {},
   "source": [
    "12. What is the maximum possible length of an identifier in python?\n",
    "* 255 characters"
   ]
  },
  {
   "cell_type": "markdown",
   "id": "d6ac33b8-c061-4736-a066-7a8aa5b23dcf",
   "metadata": {},
   "source": [
    "13. What are the benefits of using python?\n",
    "* There are several benefits of using python:\n",
    "* 1. Readability: Clear and understandable syntax.\n",
    "* 2. Versatile: Python is versatile ie used in wide range on applications, applicable to data science, web dev, data analysis, AI, ML, automation, etc.\n",
    "* 3. Large Standard Library: Extensive built-in modules.\n",
    "* 4. Dynamic Typing: No need to declare variable types.\n",
    "* 5. Integration: Easily integrates with other languages and tools.\n",
    "* 6. Cross-Platform: Runs on different operating systems. etc"
   ]
  },
  {
   "cell_type": "markdown",
   "id": "29606d56-c727-4602-a274-1285f0cfd4fa",
   "metadata": {},
   "source": [
    "14. How is memory managed in python?\n",
    "* Python manages memory automatically. It keeps track of objects created in a private space(called \"private heap\"). When objects are no longer needed, Python's garbage collector frees up the memory they occupied. This happens automatically, so developers don't have to worry about managing memory manually."
   ]
  },
  {
   "cell_type": "markdown",
   "id": "8ec9c90c-0d34-4a12-8462-ea5b27ac4912",
   "metadata": {},
   "source": [
    "15. How to install python on Windows and set path variables?\n",
    "* Download python: go to python.org > download > windows > select the latest version > windows installer (64 bit) in files.\n",
    "* To install python: run the python installer > mark all > install now > python is installed\n",
    "* To install jupyter notebook: open terminal and write these > python --version > pip install jupyter > jupyter is installed --- To open this- right click on any empty or in a folder > open in terminal > write jupyter notebook > it opened > new > python3 > start coding\n",
    "* To set path variables: search python > open file location > Copy the location path from the top by clicking over it > search environmental variable and click it > path > edit > new > paste the path+\\ > again new > paste the path+\\Scripts\\ > move down all others > ok > python installation location path updated --To varify it > cmd > python --version > python version is installed in the pc"
   ]
  },
  {
   "cell_type": "markdown",
   "id": "98017f22-d195-4f0d-bbc8-343128bada08",
   "metadata": {},
   "source": [
    "16. Is indentation required in python?\n",
    "* Indentation is mandatory in python to define the blocks of statements."
   ]
  },
  {
   "cell_type": "code",
   "execution_count": null,
   "id": "eaba3806-ef23-421a-aed9-8ee3ae8966b5",
   "metadata": {},
   "outputs": [],
   "source": []
  }
 ],
 "metadata": {
  "kernelspec": {
   "display_name": "Python 3 (ipykernel)",
   "language": "python",
   "name": "python3"
  },
  "language_info": {
   "codemirror_mode": {
    "name": "ipython",
    "version": 3
   },
   "file_extension": ".py",
   "mimetype": "text/x-python",
   "name": "python",
   "nbconvert_exporter": "python",
   "pygments_lexer": "ipython3",
   "version": "3.10.8"
  }
 },
 "nbformat": 4,
 "nbformat_minor": 5
}
